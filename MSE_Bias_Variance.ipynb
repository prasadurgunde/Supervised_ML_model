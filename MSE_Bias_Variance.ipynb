{
 "cells": [
  {
   "cell_type": "code",
   "execution_count": 11,
   "id": "acbdebb4-2813-4278-8aba-4984ff67c0ab",
   "metadata": {},
   "outputs": [
    {
     "name": "stdout",
     "output_type": "stream",
     "text": [
      "MSE: 25.994907724912153\n",
      "Bias: 22.41211837451609\n",
      "Variance: 3.5827893503960495\n"
     ]
    }
   ],
   "source": [
    "#pip install mlxtend\n",
    "import pandas as pd\n",
    "from sklearn.model_selection import train_test_split\n",
    "from sklearn.linear_model import LinearRegression\n",
    "from mlxtend.evaluate import bias_variance_decomp\n",
    "\n",
    "df=pd.read_csv('A:/Csv_files/student_scores/student_scores.csv')\n",
    "\n",
    "X=df.iloc[:,:-1].values\n",
    "y=df.iloc[:,1].values\n",
    "\n",
    "X_train, X_test, y_train, y_test = train_test_split(X, y, test_size = \n",
    "0.2, random_state = 0) \n",
    " \n",
    "model = LinearRegression()\n",
    "\n",
    "mse,bias,var=bias_variance_decomp(model,X_train,y_train,X_test,y_test, loss='mse',num_rounds=200, random_seed=1)\n",
    "print('MSE:',mse)\n",
    "print('Bias:',bias)\n",
    "print('Variance:',var)\n",
    "\n"
   ]
  },
  {
   "cell_type": "code",
   "execution_count": null,
   "id": "d98fa385-f8c1-4687-950f-8ec4b32a4425",
   "metadata": {},
   "outputs": [],
   "source": []
  }
 ],
 "metadata": {
  "kernelspec": {
   "display_name": "Python 3 (ipykernel)",
   "language": "python",
   "name": "python3"
  },
  "language_info": {
   "codemirror_mode": {
    "name": "ipython",
    "version": 3
   },
   "file_extension": ".py",
   "mimetype": "text/x-python",
   "name": "python",
   "nbconvert_exporter": "python",
   "pygments_lexer": "ipython3",
   "version": "3.10.0"
  }
 },
 "nbformat": 4,
 "nbformat_minor": 5
}
